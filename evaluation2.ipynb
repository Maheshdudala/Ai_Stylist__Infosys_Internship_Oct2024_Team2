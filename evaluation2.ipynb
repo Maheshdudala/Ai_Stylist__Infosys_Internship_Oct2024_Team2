{
 "cells": [
  {
   "cell_type": "code",
   "execution_count": 11,
   "id": "9909e15e-69f0-452e-9175-8e7fa5952e5b",
   "metadata": {},
   "outputs": [
    {
     "name": "stdout",
     "output_type": "stream",
     "text": [
      "Evaluation Metrics: {'Recall@K': 0.5, 'Precision@K': 0.6666666666666666, 'F1@K': 0.5714285714285715}\n"
     ]
    }
   ],
   "source": [
    "def evaluate_recommendation_metrics(recommendations, ground_truth, k):\n",
    "   \n",
    "    total_recall = 0\n",
    "    total_precision = 0\n",
    "    total_f1 = 0\n",
    "    user_count = 0\n",
    "\n",
    "    for user, recommended_items in recommendations.items():\n",
    "        if user not in ground_truth:\n",
    "            continue \n",
    "\n",
    "        top_k_recommended = recommended_items[:k]\n",
    "\n",
    "        relevant_items = set(ground_truth[user])\n",
    "\n",
    "        relevant_in_top_k = set(top_k_recommended) & relevant_items\n",
    "\n",
    "        recall = len(relevant_in_top_k) / len(relevant_items) if relevant_items else 0\n",
    "        precision = len(relevant_in_top_k) / k\n",
    "        f1 = (\n",
    "            2 * (precision * recall) / (precision + recall)\n",
    "            if (precision + recall) > 0\n",
    "            else 0\n",
    "        )\n",
    "\n",
    "        total_recall += recall\n",
    "        total_precision += precision\n",
    "        total_f1 += f1\n",
    "        user_count += 1\n",
    "\n",
    "    avg_recall = total_recall / user_count if user_count else 0\n",
    "    avg_precision = total_precision / user_count if user_count else 0\n",
    "    avg_f1 = total_f1 / user_count if user_count else 0\n",
    "\n",
    "    return {\"Recall@K\": avg_recall, \"Precision@K\": avg_precision, \"F1@K\": avg_f1}\n",
    "\n",
    "\n",
    "recommendations = {\n",
    "    'user1': [27154, 7622, 7237, 18787, 9176],\n",
    "\n",
    "}\n",
    "\n",
    "ground_truth = {\n",
    "    'user1': [27154, 7237, 9176,18787],  \n",
    "\n",
    "}\n",
    "\n",
    "k = 3\n",
    "metrics = evaluate_recommendation_metrics(recommendations, ground_truth, k)\n",
    "print(f\"Evaluation Metrics: {metrics}\")\n"
   ]
  },
  {
   "cell_type": "code",
   "execution_count": null,
   "id": "b95baee0-2843-40e2-aceb-e034f699a7b0",
   "metadata": {},
   "outputs": [],
   "source": []
  }
 ],
 "metadata": {
  "kernelspec": {
   "display_name": "Python 3 (ipykernel)",
   "language": "python",
   "name": "python3"
  },
  "language_info": {
   "codemirror_mode": {
    "name": "ipython",
    "version": 3
   },
   "file_extension": ".py",
   "mimetype": "text/x-python",
   "name": "python",
   "nbconvert_exporter": "python",
   "pygments_lexer": "ipython3",
   "version": "3.12.4"
  }
 },
 "nbformat": 4,
 "nbformat_minor": 5
}
